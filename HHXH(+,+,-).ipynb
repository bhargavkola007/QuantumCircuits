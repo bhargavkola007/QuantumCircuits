{
 "cells": [
  {
   "cell_type": "code",
   "execution_count": 86,
   "id": "8d65a7c1",
   "metadata": {},
   "outputs": [],
   "source": [
    "from qiskit import *\n",
    "from qiskit.visualization import plot_bloch_multivector,visualize_transition,plot_histogram"
   ]
  },
  {
   "cell_type": "code",
   "execution_count": 87,
   "id": "9de4bd42",
   "metadata": {},
   "outputs": [],
   "source": [
    "qc=QuantumCircuit(3)"
   ]
  },
  {
   "cell_type": "code",
   "execution_count": 88,
   "id": "19544f59",
   "metadata": {},
   "outputs": [
    {
     "data": {
      "text/plain": [
       "<qiskit.circuit.instructionset.InstructionSet at 0x204fb0ca940>"
      ]
     },
     "execution_count": 88,
     "metadata": {},
     "output_type": "execute_result"
    }
   ],
   "source": [
    "qc.h(0)\n",
    "qc.h(1)\n",
    "qc.x(2)\n",
    "qc.h(2)"
   ]
  },
  {
   "cell_type": "code",
   "execution_count": 89,
   "id": "6fd5142d",
   "metadata": {},
   "outputs": [
    {
     "data": {
      "image/png": "[encoded data removed]",
      "text/plain": [
       "<Figure size 287.496x284.278 with 1 Axes>"
      ]
     },
     "execution_count": 89,
     "metadata": {},
     "output_type": "execute_result"
    }
   ],
   "source": [
    "qc.draw('mpl')"
   ]
  },
  {
   "cell_type": "code",
   "execution_count": 90,
   "id": "0dd25b70",
   "metadata": {},
   "outputs": [],
   "source": [
    "backend = Aer.get_backend('unitary_simulator')"
   ]
  },
  {
   "cell_type": "code",
   "execution_count": 91,
   "id": "20d189fd",
   "metadata": {},
   "outputs": [],
   "source": [
    "out = execute(qc,backend).result().get_unitary()"
   ]
  },
  {
   "cell_type": "code",
   "execution_count": 92,
   "id": "b4c21c9d",
   "metadata": {},
   "outputs": [
    {
     "data": {
      "text/latex": [
       "$\\displaystyle \n",
       "\\text{UnitaryMatrix} = \\begin{bmatrix}\n",
       "\\tfrac{1}{\\sqrt{8}} & \\tfrac{1}{\\sqrt{8}} & \\tfrac{1}{\\sqrt{8}} & \\tfrac{1}{\\sqrt{8}} & \\tfrac{1}{\\sqrt{8}} & \\tfrac{1}{\\sqrt{8}} & \\tfrac{1}{\\sqrt{8}} & \\tfrac{1}{\\sqrt{8}}  \\\\\n",
       "\\tfrac{1}{\\sqrt{8}} & -\\tfrac{1}{\\sqrt{8}} & \\tfrac{1}{\\sqrt{8}} & -\\tfrac{1}{\\sqrt{8}} & \\tfrac{1}{\\sqrt{8}} & -\\tfrac{1}{\\sqrt{8}} & \\tfrac{1}{\\sqrt{8}} & -\\tfrac{1}{\\sqrt{8}}  \\\\\n",
       "\\tfrac{1}{\\sqrt{8}} & \\tfrac{1}{\\sqrt{8}} & -\\tfrac{1}{\\sqrt{8}} & -\\tfrac{1}{\\sqrt{8}} & \\tfrac{1}{\\sqrt{8}} & \\tfrac{1}{\\sqrt{8}} & -\\tfrac{1}{\\sqrt{8}} & -\\tfrac{1}{\\sqrt{8}}  \\\\\n",
       "\\tfrac{1}{\\sqrt{8}} & -\\tfrac{1}{\\sqrt{8}} & -\\tfrac{1}{\\sqrt{8}} & \\tfrac{1}{\\sqrt{8}} & \\tfrac{1}{\\sqrt{8}} & -\\tfrac{1}{\\sqrt{8}} & -\\tfrac{1}{\\sqrt{8}} & \\tfrac{1}{\\sqrt{8}}  \\\\\n",
       "-\\tfrac{1}{\\sqrt{8}} & -\\tfrac{1}{\\sqrt{8}} & -\\tfrac{1}{\\sqrt{8}} & -\\tfrac{1}{\\sqrt{8}} & \\tfrac{1}{\\sqrt{8}} & \\tfrac{1}{\\sqrt{8}} & \\tfrac{1}{\\sqrt{8}} & \\tfrac{1}{\\sqrt{8}}  \\\\\n",
       "-\\tfrac{1}{\\sqrt{8}} & \\tfrac{1}{\\sqrt{8}} & -\\tfrac{1}{\\sqrt{8}} & \\tfrac{1}{\\sqrt{8}} & \\tfrac{1}{\\sqrt{8}} & -\\tfrac{1}{\\sqrt{8}} & \\tfrac{1}{\\sqrt{8}} & -\\tfrac{1}{\\sqrt{8}}  \\\\\n",
       "-\\tfrac{1}{\\sqrt{8}} & -\\tfrac{1}{\\sqrt{8}} & \\tfrac{1}{\\sqrt{8}} & \\tfrac{1}{\\sqrt{8}} & \\tfrac{1}{\\sqrt{8}} & \\tfrac{1}{\\sqrt{8}} & -\\tfrac{1}{\\sqrt{8}} & -\\tfrac{1}{\\sqrt{8}}  \\\\\n",
       "-\\tfrac{1}{\\sqrt{8}} & \\tfrac{1}{\\sqrt{8}} & \\tfrac{1}{\\sqrt{8}} & -\\tfrac{1}{\\sqrt{8}} & \\tfrac{1}{\\sqrt{8}} & -\\tfrac{1}{\\sqrt{8}} & -\\tfrac{1}{\\sqrt{8}} & \\tfrac{1}{\\sqrt{8}}  \\\\\n",
       "\\end{bmatrix}\n",
       "$$\n",
       "$"
      ],
      "text/plain": [
       "<IPython.core.display.Math object>"
      ]
     },
     "metadata": {},
     "output_type": "display_data"
    }
   ],
   "source": [
    "from qiskit_textbook.tools import array_to_latex\n",
    "array_to_latex(out, pretext = \"\\\\text{UnitaryMatrix} = \")"
   ]
  },
  {
   "cell_type": "code",
   "execution_count": 93,
   "id": "0ce04800",
   "metadata": {},
   "outputs": [],
   "source": [
    "backend = Aer.get_backend('statevector_simulator')"
   ]
  },
  {
   "cell_type": "code",
   "execution_count": 94,
   "id": "e692c5f0",
   "metadata": {},
   "outputs": [],
   "source": [
    "out = execute(qc,backend).result().get_statevector()"
   ]
  },
  {
   "cell_type": "code",
   "execution_count": 95,
   "id": "e974f6c9",
   "metadata": {},
   "outputs": [
    {
     "data": {
      "text/latex": [
       "$\\displaystyle \n",
       "\\text{Statevector} = \\begin{bmatrix}\n",
       "\\tfrac{1}{\\sqrt{8}} \\\\\n",
       "\\tfrac{1}{\\sqrt{8}} \\\\\n",
       "\\tfrac{1}{\\sqrt{8}} \\\\\n",
       "\\tfrac{1}{\\sqrt{8}} \\\\\n",
       "-\\tfrac{1}{\\sqrt{8}} \\\\\n",
       "-\\tfrac{1}{\\sqrt{8}} \\\\\n",
       "-\\tfrac{1}{\\sqrt{8}} \\\\\n",
       "-\\tfrac{1}{\\sqrt{8}}\n",
       "\\end{bmatrix}\n",
       "$"
      ],
      "text/plain": [
       "<IPython.core.display.Math object>"
      ]
     },
     "metadata": {},
     "output_type": "display_data"
    }
   ],
   "source": [
    "array_to_latex(out, pretext = \"\\\\text{Statevector} = \")"
   ]
  },
  {
   "cell_type": "code",
   "execution_count": 96,
   "id": "0d82de78",
   "metadata": {},
   "outputs": [
    {
     "data": {
      "image/png": "[encoded data removed]",
      "text/plain": [
       "<Figure size 700x500 with 1 Axes>"
      ]
     },
     "execution_count": 96,
     "metadata": {},
     "output_type": "execute_result"
    }
   ],
   "source": [
    "#execute the circuit and get the plain result\n",
    "out = execute(qc,backend).result()\n",
    "#getting the count of the result\n",
    "counts = out.get_counts()\n",
    "#plotting the histogram\n",
    "plot_histogram(counts)"
   ]
  },
  {
   "cell_type": "code",
   "execution_count": null,
   "id": "8a25ddd0",
   "metadata": {},
   "outputs": [],
   "source": []
  }
 ],
 "metadata": {
  "kernelspec": {
   "display_name": "Python 3 (ipykernel)",
   "language": "python",
   "name": "python3"
  },
  "language_info": {
   "codemirror_mode": {
    "name": "ipython",
    "version": 3
   },
   "file_extension": ".py",
   "mimetype": "text/x-python",
   "name": "python",
   "nbconvert_exporter": "python",
   "pygments_lexer": "ipython3",
   "version": "3.9.13"
  }
 },
 "nbformat": 4,
 "nbformat_minor": 5
}
