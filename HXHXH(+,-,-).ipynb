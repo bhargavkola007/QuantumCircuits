{
 "cells": [
  {
   "cell_type": "code",
   "execution_count": 75,
   "id": "3b7aa112",
   "metadata": {},
   "outputs": [],
   "source": [
    "from qiskit import *\n",
    "from qiskit.visualization import plot_bloch_multivector,visualize_transition,plot_histogram"
   ]
  },
  {
   "cell_type": "code",
   "execution_count": 76,
   "id": "f1ee1796",
   "metadata": {},
   "outputs": [],
   "source": [
    "qc=QuantumCircuit(3)"
   ]
  },
  {
   "cell_type": "code",
   "execution_count": 77,
   "id": "7c88a34c",
   "metadata": {},
   "outputs": [
    {
     "data": {
      "text/plain": [
       "<qiskit.circuit.instructionset.InstructionSet at 0x204fafd7a30>"
      ]
     },
     "execution_count": 77,
     "metadata": {},
     "output_type": "execute_result"
    }
   ],
   "source": [
    "qc.x(0)\n",
    "qc.h(0)\n",
    "qc.h(1)\n",
    "qc.x(2)\n",
    "qc.h(2)"
   ]
  },
  {
   "cell_type": "code",
   "execution_count": 78,
   "id": "f968285d",
   "metadata": {},
   "outputs": [
    {
     "data": {
      "image/png": "[encoded data removed]",
      "text/plain": [
       "<Figure size 287.496x284.278 with 1 Axes>"
      ]
     },
     "execution_count": 78,
     "metadata": {},
     "output_type": "execute_result"
    }
   ],
   "source": [
    "qc.draw('mpl')"
   ]
  },
  {
   "cell_type": "code",
   "execution_count": 79,
   "id": "0116f607",
   "metadata": {},
   "outputs": [],
   "source": [
    "backend = Aer.get_backend('unitary_simulator')"
   ]
  },
  {
   "cell_type": "code",
   "execution_count": 80,
   "id": "c1f2c76d",
   "metadata": {},
   "outputs": [],
   "source": [
    "out = execute(qc,backend).result().get_unitary()"
   ]
  },
  {
   "cell_type": "code",
   "execution_count": 81,
   "id": "0ecbb3c9",
   "metadata": {},
   "outputs": [
    {
     "data": {
      "text/latex": [
       "$\\displaystyle \n",
       "\\text{UnitaryMatrix} = \\begin{bmatrix}\n",
       "\\tfrac{1}{\\sqrt{8}} & \\tfrac{1}{\\sqrt{8}} & \\tfrac{1}{\\sqrt{8}} & \\tfrac{1}{\\sqrt{8}} & \\tfrac{1}{\\sqrt{8}} & \\tfrac{1}{\\sqrt{8}} & \\tfrac{1}{\\sqrt{8}} & \\tfrac{1}{\\sqrt{8}}  \\\\\n",
       "-\\tfrac{1}{\\sqrt{8}} & \\tfrac{1}{\\sqrt{8}} & -\\tfrac{1}{\\sqrt{8}} & \\tfrac{1}{\\sqrt{8}} & -\\tfrac{1}{\\sqrt{8}} & \\tfrac{1}{\\sqrt{8}} & -\\tfrac{1}{\\sqrt{8}} & \\tfrac{1}{\\sqrt{8}}  \\\\\n",
       "\\tfrac{1}{\\sqrt{8}} & \\tfrac{1}{\\sqrt{8}} & -\\tfrac{1}{\\sqrt{8}} & -\\tfrac{1}{\\sqrt{8}} & \\tfrac{1}{\\sqrt{8}} & \\tfrac{1}{\\sqrt{8}} & -\\tfrac{1}{\\sqrt{8}} & -\\tfrac{1}{\\sqrt{8}}  \\\\\n",
       "-\\tfrac{1}{\\sqrt{8}} & \\tfrac{1}{\\sqrt{8}} & \\tfrac{1}{\\sqrt{8}} & -\\tfrac{1}{\\sqrt{8}} & -\\tfrac{1}{\\sqrt{8}} & \\tfrac{1}{\\sqrt{8}} & \\tfrac{1}{\\sqrt{8}} & -\\tfrac{1}{\\sqrt{8}}  \\\\\n",
       "-\\tfrac{1}{\\sqrt{8}} & -\\tfrac{1}{\\sqrt{8}} & -\\tfrac{1}{\\sqrt{8}} & -\\tfrac{1}{\\sqrt{8}} & \\tfrac{1}{\\sqrt{8}} & \\tfrac{1}{\\sqrt{8}} & \\tfrac{1}{\\sqrt{8}} & \\tfrac{1}{\\sqrt{8}}  \\\\\n",
       "\\tfrac{1}{\\sqrt{8}} & -\\tfrac{1}{\\sqrt{8}} & \\tfrac{1}{\\sqrt{8}} & -\\tfrac{1}{\\sqrt{8}} & -\\tfrac{1}{\\sqrt{8}} & \\tfrac{1}{\\sqrt{8}} & -\\tfrac{1}{\\sqrt{8}} & \\tfrac{1}{\\sqrt{8}}  \\\\\n",
       "-\\tfrac{1}{\\sqrt{8}} & -\\tfrac{1}{\\sqrt{8}} & \\tfrac{1}{\\sqrt{8}} & \\tfrac{1}{\\sqrt{8}} & \\tfrac{1}{\\sqrt{8}} & \\tfrac{1}{\\sqrt{8}} & -\\tfrac{1}{\\sqrt{8}} & -\\tfrac{1}{\\sqrt{8}}  \\\\\n",
       "\\tfrac{1}{\\sqrt{8}} & -\\tfrac{1}{\\sqrt{8}} & -\\tfrac{1}{\\sqrt{8}} & \\tfrac{1}{\\sqrt{8}} & -\\tfrac{1}{\\sqrt{8}} & \\tfrac{1}{\\sqrt{8}} & \\tfrac{1}{\\sqrt{8}} & -\\tfrac{1}{\\sqrt{8}}  \\\\\n",
       "\\end{bmatrix}\n",
       "$$\n",
       "$"
      ],
      "text/plain": [
       "<IPython.core.display.Math object>"
      ]
     },
     "metadata": {},
     "output_type": "display_data"
    }
   ],
   "source": [
    "from qiskit_textbook.tools import array_to_latex\n",
    "array_to_latex(out, pretext = \"\\\\text{UnitaryMatrix} = \")"
   ]
  },
  {
   "cell_type": "code",
   "execution_count": 82,
   "id": "07d27c10",
   "metadata": {},
   "outputs": [],
   "source": [
    "backend = Aer.get_backend('statevector_simulator')"
   ]
  },
  {
   "cell_type": "code",
   "execution_count": 83,
   "id": "5b3b80d7",
   "metadata": {},
   "outputs": [],
   "source": [
    "out = execute(qc,backend).result().get_statevector()"
   ]
  },
  {
   "cell_type": "code",
   "execution_count": 84,
   "id": "ccdf0162",
   "metadata": {},
   "outputs": [
    {
     "data": {
      "text/latex": [
       "$\\displaystyle \n",
       "\\text{Statevector} = \\begin{bmatrix}\n",
       "\\tfrac{1}{\\sqrt{8}} \\\\\n",
       "-\\tfrac{1}{\\sqrt{8}} \\\\\n",
       "\\tfrac{1}{\\sqrt{8}} \\\\\n",
       "-\\tfrac{1}{\\sqrt{8}} \\\\\n",
       "-\\tfrac{1}{\\sqrt{8}} \\\\\n",
       "\\tfrac{1}{\\sqrt{8}} \\\\\n",
       "-\\tfrac{1}{\\sqrt{8}} \\\\\n",
       "\\tfrac{1}{\\sqrt{8}}\n",
       "\\end{bmatrix}\n",
       "$"
      ],
      "text/plain": [
       "<IPython.core.display.Math object>"
      ]
     },
     "metadata": {},
     "output_type": "display_data"
    }
   ],
   "source": [
    "array_to_latex(out, pretext = \"\\\\text{Statevector} = \")"
   ]
  },
  {
   "cell_type": "code",
   "execution_count": 85,
   "id": "c229de42",
   "metadata": {},
   "outputs": [
    {
     "data": {
      "image/png": "[encoded data removed]",
      "text/plain": [
       "<Figure size 700x500 with 1 Axes>"
      ]
     },
     "execution_count": 85,
     "metadata": {},
     "output_type": "execute_result"
    }
   ],
   "source": [
    "#execute the circuit and get the plain result\n",
    "out = execute(qc,backend).result()\n",
    "#getting the count of the result\n",
    "counts = out.get_counts()\n",
    "#plotting the histogram\n",
    "plot_histogram(counts)"
   ]
  },
  {
   "cell_type": "code",
   "execution_count": null,
   "id": "d707af14",
   "metadata": {},
   "outputs": [],
   "source": []
  }
 ],
 "metadata": {
  "kernelspec": {
   "display_name": "Python 3 (ipykernel)",
   "language": "python",
   "name": "python3"
  },
  "language_info": {
   "codemirror_mode": {
    "name": "ipython",
    "version": 3
   },
   "file_extension": ".py",
   "mimetype": "text/x-python",
   "name": "python",
   "nbconvert_exporter": "python",
   "pygments_lexer": "ipython3",
   "version": "3.9.13"
  }
 },
 "nbformat": 4,
 "nbformat_minor": 5
}
