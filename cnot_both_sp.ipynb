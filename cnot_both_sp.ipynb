{
 "cells": [
  {
   "cell_type": "code",
   "execution_count": 4,
   "metadata": {},
   "outputs": [],
   "source": [
    "from qiskit import *\n",
    "from qiskit.visualization import plot_bloch_multivector, visualize_transition, plot_histogram"
   ]
  },
  {
   "cell_type": "code",
   "execution_count": 5,
   "metadata": {},
   "outputs": [],
   "source": [
    "# Create a quantum circuit with 2 qubits\n",
    "# The default initial state of qubits will be |0> or [1,0]\n",
    "qc = QuantumCircuit(3)"
   ]
  },
  {
   "cell_type": "code",
   "execution_count": 6,
   "metadata": {},
   "outputs": [
    {
     "data": {
      "text/plain": [
       "<qiskit.circuit.instructionset.InstructionSet at 0x15c0695e220>"
      ]
     },
     "execution_count": 6,
     "metadata": {},
     "output_type": "execute_result"
    }
   ],
   "source": [
    "# Apply h gate to the control and target qubits\n",
    "qc.ccx(0,1,2)"
   ]
  },
  {
   "cell_type": "code",
   "execution_count": 7,
   "metadata": {},
   "outputs": [],
   "source": [
    "#Applying the CNOT gate\n",
    "#qc.cx(0,1)"
   ]
  },
  {
   "cell_type": "code",
   "execution_count": 8,
   "metadata": {
    "scrolled": false
   },
   "outputs": [
    {
     "data": {
      "image/png": "[encoded data removed]",
      "text/plain": [
       "<Figure size 203.885x284.278 with 1 Axes>"
      ]
     },
     "execution_count": 8,
     "metadata": {},
     "output_type": "execute_result"
    }
   ],
   "source": [
    "#Draw the circuit\n",
    "# qc.draw()\n",
    "qc.draw('mpl')"
   ]
  },
  {
   "cell_type": "code",
   "execution_count": 9,
   "metadata": {},
   "outputs": [],
   "source": [
    "#Get the backend for the circuit to display unitary matrix\n",
    "backend = Aer.get_backend('unitary_simulator')"
   ]
  },
  {
   "cell_type": "code",
   "execution_count": 10,
   "metadata": {},
   "outputs": [],
   "source": [
    "#execute the circuit using the backend\n",
    "out = execute(qc,backend).result().get_unitary()"
   ]
  },
  {
   "cell_type": "code",
   "execution_count": 11,
   "metadata": {},
   "outputs": [
    {
     "data": {
      "text/latex": [
       "$\\displaystyle \n",
       "\\text{UnitaryMatrix} = \\begin{bmatrix}\n",
       "1 & 0 & 0 & 0 & 0 & 0 & 0 & 0  \\\\\n",
       "0 & 1 & 0 & 0 & 0 & 0 & 0 & 0  \\\\\n",
       "0 & 0 & 1 & 0 & 0 & 0 & 0 & 0  \\\\\n",
       "0 & 0 & 0 & 0 & 0 & 0 & 0 & 1  \\\\\n",
       "0 & 0 & 0 & 0 & 1 & 0 & 0 & 0  \\\\\n",
       "0 & 0 & 0 & 0 & 0 & 1 & 0 & 0  \\\\\n",
       "0 & 0 & 0 & 0 & 0 & 0 & 1 & 0  \\\\\n",
       "0 & 0 & 0 & 1 & 0 & 0 & 0 & 0  \\\\\n",
       "\\end{bmatrix}\n",
       "$$\n",
       "$"
      ],
      "text/plain": [
       "<IPython.core.display.Math object>"
      ]
     },
     "metadata": {},
     "output_type": "display_data"
    }
   ],
   "source": [
    "#import qiskit_textbook and display the combined unitary matrix\n",
    "from qiskit_textbook.tools import array_to_latex\n",
    "array_to_latex(out, pretext = \"\\\\text{UnitaryMatrix} = \")"
   ]
  },
  {
   "cell_type": "code",
   "execution_count": 12,
   "metadata": {},
   "outputs": [
    {
     "name": "stdout",
     "output_type": "stream",
     "text": [
      "Note: you may need to restart the kernel to use updated packages.\n"
     ]
    },
    {
     "name": "stderr",
     "output_type": "stream",
     "text": [
      "ERROR: Could not find a version that satisfies the requirement git (from versions: none)\n",
      "ERROR: No matching distribution found for git\n"
     ]
    }
   ],
   "source": [
    "pip install git"
   ]
  },
  {
   "cell_type": "code",
   "execution_count": 2,
   "metadata": {},
   "outputs": [
    {
     "name": "stdout",
     "output_type": "stream",
     "text": [
      "Collecting git+https://github.com/qiskit-textbook.git#subdirectory=qiskit-textbook-src\n",
      "  Cloning https://github.com/qiskit-textbook.git to c:\\users\\bharg\\appdata\\local\\temp\\pip-req-build-n_elhnbx\n",
      "Note: you may need to restart the kernel to use updated packages.\n"
     ]
    },
    {
     "name": "stderr",
     "output_type": "stream",
     "text": [
      "  Running command git clone --filter=blob:none --quiet https://github.com/qiskit-textbook.git 'C:\\Users\\bharg\\AppData\\Local\\Temp\\pip-req-build-n_elhnbx'\n",
      "  remote: Not Found\n",
      "  fatal: repository 'https://github.com/qiskit-textbook.git/' not found\n",
      "  error: subprocess-exited-with-error\n",
      "  \n",
      "  git clone --filter=blob:none --quiet https://github.com/qiskit-textbook.git 'C:\\Users\\bharg\\AppData\\Local\\Temp\\pip-req-build-n_elhnbx' did not run successfully.\n",
      "  exit code: 128\n",
      "  \n",
      "  See above for output.\n",
      "  \n",
      "  note: This error originates from a subprocess, and is likely not a problem with pip.\n",
      "error: subprocess-exited-with-error\n",
      "\n",
      "git clone --filter=blob:none --quiet https://github.com/qiskit-textbook.git 'C:\\Users\\bharg\\AppData\\Local\\Temp\\pip-req-build-n_elhnbx' did not run successfully.\n",
      "exit code: 128\n",
      "\n",
      "See above for output.\n",
      "\n",
      "note: This error originates from a subprocess, and is likely not a problem with pip.\n"
     ]
    }
   ],
   "source": [
    "pip install git+https://github.com/qiskit-textbook.git#subdirectory=qiskit-textbook-src"
   ]
  },
  {
   "cell_type": "code",
   "execution_count": 13,
   "metadata": {},
   "outputs": [],
   "source": [
    "#Get the backend for the circuit (simulator or realtime system)\n",
    "backend = Aer.get_backend('statevector_simulator')"
   ]
  },
  {
   "cell_type": "code",
   "execution_count": 14,
   "metadata": {},
   "outputs": [],
   "source": [
    "#execute the circuit using the backend\n",
    "out = execute(qc,backend).result().get_statevector()"
   ]
  },
  {
   "cell_type": "code",
   "execution_count": 15,
   "metadata": {
    "scrolled": true
   },
   "outputs": [
    {
     "data": {
      "text/latex": [
       "$\\displaystyle \n",
       "\\text{Statevector} = \\begin{bmatrix}\n",
       "1 \\\\\n",
       "0 \\\\\n",
       "0 \\\\\n",
       "0 \\\\\n",
       "0 \\\\\n",
       "0 \\\\\n",
       "0 \\\\\n",
       "0\n",
       "\\end{bmatrix}\n",
       "$"
      ],
      "text/plain": [
       "<IPython.core.display.Math object>"
      ]
     },
     "metadata": {},
     "output_type": "display_data"
    }
   ],
   "source": [
    "#import qiskit_textbook and display the statevector\n",
    "#from qiskit.tools import array_to_latex\n",
    "array_to_latex(out, pretext = \"\\\\text{Statevector} = \")"
   ]
  },
  {
   "cell_type": "code",
   "execution_count": 16,
   "metadata": {},
   "outputs": [
    {
     "data": {
      "image/png": "[encoded data removed]",
      "text/plain": [
       "<Figure size 700x500 with 1 Axes>"
      ]
     },
     "execution_count": 16,
     "metadata": {},
     "output_type": "execute_result"
    }
   ],
   "source": [
    "#execute the circuit and get the plain result\n",
    "out = execute(qc,backend).result()\n",
    "#getting the count of the result\n",
    "counts = out.get_counts()\n",
    "#plotting the histogram\n",
    "plot_histogram(counts)"
   ]
  },
  {
   "cell_type": "code",
   "execution_count": 21,
   "metadata": {},
   "outputs": [],
   "source": [
    "from qiskit import *\n",
    "from qiskit.visualization import plot_bloch_multivector, visualize_transition, plot_histogram"
   ]
  },
  {
   "cell_type": "code",
   "execution_count": 22,
   "metadata": {},
   "outputs": [],
   "source": [
    "qc = QuantumCircuit(3)"
   ]
  },
  {
   "cell_type": "code",
   "execution_count": 23,
   "metadata": {},
   "outputs": [
    {
     "data": {
      "text/plain": [
       "<qiskit.circuit.instructionset.InstructionSet at 0x15c618215b0>"
      ]
     },
     "execution_count": 23,
     "metadata": {},
     "output_type": "execute_result"
    }
   ],
   "source": [
    "qc.x(0)\n",
    "qc.x(1)\n",
    "qc.x(2)\n",
    "qc.ccx(0,1,2)"
   ]
  },
  {
   "cell_type": "code",
   "execution_count": 24,
   "metadata": {},
   "outputs": [
    {
     "data": {
      "image/png": "[encoded data removed]",
      "text/plain": [
       "<Figure size 287.496x284.278 with 1 Axes>"
      ]
     },
     "execution_count": 24,
     "metadata": {},
     "output_type": "execute_result"
    }
   ],
   "source": [
    "qc.draw('mpl')"
   ]
  },
  {
   "cell_type": "code",
   "execution_count": 25,
   "metadata": {},
   "outputs": [],
   "source": [
    "backend = Aer.get_backend('unitary_simulator')"
   ]
  },
  {
   "cell_type": "code",
   "execution_count": 26,
   "metadata": {},
   "outputs": [],
   "source": [
    "out = execute(qc,backend).result().get_unitary()"
   ]
  },
  {
   "cell_type": "code",
   "execution_count": 27,
   "metadata": {},
   "outputs": [
    {
     "data": {
      "text/latex": [
       "$\\displaystyle \n",
       "\\text{UnitaryMatrix} = \\begin{bmatrix}\n",
       "0 & 0 & 0 & 0 & 0 & 0 & 0 & 1  \\\\\n",
       "0 & 0 & 0 & 0 & 0 & 0 & 1 & 0  \\\\\n",
       "0 & 0 & 0 & 0 & 0 & 1 & 0 & 0  \\\\\n",
       "1 & 0 & 0 & 0 & 0 & 0 & 0 & 0  \\\\\n",
       "0 & 0 & 0 & 1 & 0 & 0 & 0 & 0  \\\\\n",
       "0 & 0 & 1 & 0 & 0 & 0 & 0 & 0  \\\\\n",
       "0 & 1 & 0 & 0 & 0 & 0 & 0 & 0  \\\\\n",
       "0 & 0 & 0 & 0 & 1 & 0 & 0 & 0  \\\\\n",
       "\\end{bmatrix}\n",
       "$$\n",
       "$"
      ],
      "text/plain": [
       "<IPython.core.display.Math object>"
      ]
     },
     "metadata": {},
     "output_type": "display_data"
    }
   ],
   "source": [
    "from qiskit_textbook.tools import array_to_latex\n",
    "array_to_latex(out, pretext = \"\\\\text{UnitaryMatrix} = \")"
   ]
  },
  {
   "cell_type": "code",
   "execution_count": 28,
   "metadata": {},
   "outputs": [],
   "source": [
    "backend = Aer.get_backend('statevector_simulator')"
   ]
  },
  {
   "cell_type": "code",
   "execution_count": 29,
   "metadata": {},
   "outputs": [
    {
     "data": {
      "text/latex": [
       "$\\displaystyle \n",
       "\\text{UnitaryMatrix} = \\begin{bmatrix}\n",
       "0 & 0 & 0 & 0 & 0 & 0 & 0 & 1  \\\\\n",
       "0 & 0 & 0 & 0 & 0 & 0 & 1 & 0  \\\\\n",
       "0 & 0 & 0 & 0 & 0 & 1 & 0 & 0  \\\\\n",
       "1 & 0 & 0 & 0 & 0 & 0 & 0 & 0  \\\\\n",
       "0 & 0 & 0 & 1 & 0 & 0 & 0 & 0  \\\\\n",
       "0 & 0 & 1 & 0 & 0 & 0 & 0 & 0  \\\\\n",
       "0 & 1 & 0 & 0 & 0 & 0 & 0 & 0  \\\\\n",
       "0 & 0 & 0 & 0 & 1 & 0 & 0 & 0  \\\\\n",
       "\\end{bmatrix}\n",
       "$$\n",
       "$"
      ],
      "text/plain": [
       "<IPython.core.display.Math object>"
      ]
     },
     "metadata": {},
     "output_type": "display_data"
    }
   ],
   "source": [
    "from qiskit_textbook.tools import array_to_latex\n",
    "array_to_latex(out, pretext = \"\\\\text{UnitaryMatrix} = \")"
   ]
  },
  {
   "cell_type": "code",
   "execution_count": 30,
   "metadata": {},
   "outputs": [
    {
     "data": {
      "image/png": "[encoded data removed]",
      "text/plain": [
       "<Figure size 700x500 with 1 Axes>"
      ]
     },
     "execution_count": 30,
     "metadata": {},
     "output_type": "execute_result"
    }
   ],
   "source": [
    "out = execute(qc,backend).result()\n",
    "#getting the count of the result\n",
    "counts = out.get_counts()\n",
    "#plotting the histogram\n",
    "plot_histogram(counts)"
   ]
  },
  {
   "cell_type": "code",
   "execution_count": null,
   "metadata": {},
   "outputs": [],
   "source": []
  }
 ],
 "metadata": {
  "kernelspec": {
   "display_name": "Python 3 (ipykernel)",
   "language": "python",
   "name": "python3"
  },
  "language_info": {
   "codemirror_mode": {
    "name": "ipython",
    "version": 3
   },
   "file_extension": ".py",
   "mimetype": "text/x-python",
   "name": "python",
   "nbconvert_exporter": "python",
   "pygments_lexer": "ipython3",
   "version": "3.9.13"
  }
 },
 "nbformat": 4,
 "nbformat_minor": 4
}
